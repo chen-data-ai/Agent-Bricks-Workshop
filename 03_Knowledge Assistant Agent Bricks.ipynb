{
 "cells": [
  {
   "cell_type": "markdown",
   "metadata": {
    "application/vnd.databricks.v1+cell": {
     "cellMetadata": {},
     "inputWidgets": {},
     "nuid": "849a5e91-cab7-47f8-b4a6-c3b4b3bdb1c2",
     "showTitle": false,
     "tableResultSettingsMap": {},
     "title": ""
    }
   },
   "source": [
    "# Introducing Agent Bricks: Knowledge Assistant\n",
    "\n",
    "The Knowledge Assistant in Agent Bricks is designed to provide easy access to unstructured data, enabling users to get answers directly from their documents, PowerPoints, and other file types. By using advanced retrieval-augmented generation (RAG), Knowledge Assistant transforms your documents into a high-quality, production-grade Q&A chatbot. This approach makes it ideal for scenarios where users need fast, accurate, and cited answers without manual data structuring.\n",
    "\n",
    "Key benefits include:\n",
    "- Easy access to unstructured data: Users can query a wide range of file types—including PDFs, Word files, and slides—to obtain the information they need.\n",
    "- Built-in metrics & evaluation: measure how well you're doing against real-life questions and see improvements\n",
    "- Production-grade scalability: Scale out to production use cases and focus your energy on what matters\n",
    "\n"
   ]
  },
  {
   "cell_type": "markdown",
   "metadata": {
    "application/vnd.databricks.v1+cell": {
     "cellMetadata": {},
     "inputWidgets": {},
     "nuid": "f9eef281-bd82-45ec-a552-bb1b3658981f",
     "showTitle": false,
     "tableResultSettingsMap": {},
     "title": ""
    }
   },
   "source": [
    "### Demo Overview\n",
    "For this demo, we’ll use a telecom dataset that combines all the knowledge accessible to the assistant, including a comprehensive set of frequently asked technical and policy questions and a complete archive of past support tickets with their corresponding solutions. This integrated dataset ensures the assistant can provide accurate, context-rich answers based on both established guidelines and real-world customer interactions."
   ]
  },
  {
   "cell_type": "markdown",
   "metadata": {
    "application/vnd.databricks.v1+cell": {
     "cellMetadata": {},
     "inputWidgets": {},
     "nuid": "1031cd6f-00e9-4690-937d-f2bb02d6a401",
     "showTitle": false,
     "tableResultSettingsMap": {},
     "title": ""
    }
   },
   "source": [
    "## Data Setup\n"
   ]
  },
  {
   "cell_type": "markdown",
   "metadata": {
    "application/vnd.databricks.v1+cell": {
     "cellMetadata": {
      "byteLimit": 2048000,
      "rowLimit": 10000
     },
     "inputWidgets": {},
     "nuid": "9b38bdf6-aa5b-480d-a29f-1643edd1484b",
     "showTitle": false,
     "tableResultSettingsMap": {},
     "title": ""
    }
   },
   "source": [
    "### Approach#1: Clone and Move Data from GitHub\n",
    "\n",
    "Before moving files for agent configuration with the ./config step, make sure your GitHub repository is already cloned into your Databricks Workspace or Repos folder. You need a classic compute cluster (not serverless) to move files from the workspace to a UC volume."
   ]
  },
  {
   "cell_type": "code",
   "execution_count": 0,
   "metadata": {
    "application/vnd.databricks.v1+cell": {
     "cellMetadata": {},
     "inputWidgets": {},
     "nuid": "76773926-f3c7-4eea-9607-86e457ee9eb6",
     "showTitle": false,
     "tableResultSettingsMap": {},
     "title": ""
    }
   },
   "outputs": [],
   "source": [
    "%run ./config"
   ]
  },
  {
   "cell_type": "markdown",
   "metadata": {
    "application/vnd.databricks.v1+cell": {
     "cellMetadata": {},
     "inputWidgets": {},
     "nuid": "8eb73bb4-9ca7-4fbb-bea6-04f91b3118b1",
     "showTitle": false,
     "tableResultSettingsMap": {},
     "title": ""
    }
   },
   "source": [
    "### Approach#2: Uploading Data Directly to a Unity Catalog Volume\n",
    "\n",
    "1. Download the Data\n",
    "Download the tech_support.zip archive from the provided GitHub link [TODO: ADD THE REPO LINK].\n",
    "\n",
    "2. Upload the ZIP File\n",
    "Go to your Databricks workspace.\n",
    "Navigate to your schema’s Unity Catalog volume using one of these methods:\n",
    "\n",
    "- Sidebar: Select Add data > Upload files to volume\n",
    "- Catalog Explorer: Click Add > Upload to volume\n",
    "- Notebook: Select File > Upload the downloaded tech_support.zip file and your catalog or schema information\n",
    "\n",
    "3. Copy the File Path\n",
    "After uploading, locate the file path (e.g., /Volumes/catalog/schema/volume/tech_support.zip) — you’ll need this path for the next step.\n",
    "\n",
    "4. Unzip the File in Databricks\n",
    "Use the following command in a notebook cell to unzip the file to your desired directory:"
   ]
  },
  {
   "cell_type": "code",
   "execution_count": 0,
   "metadata": {
    "application/vnd.databricks.v1+cell": {
     "cellMetadata": {},
     "inputWidgets": {},
     "nuid": "526e3335-2260-4856-8adf-f21d72c30c08",
     "showTitle": false,
     "tableResultSettingsMap": {},
     "title": ""
    }
   },
   "outputs": [],
   "source": [
    "zip_path = \"/Volumes/users/te_chen/demo_tech_support/tech_support.zip\"\n",
    "vol_path = \"/Volumes/users/te_chen/demo_tech_support/\""
   ]
  },
  {
   "cell_type": "code",
   "execution_count": 0,
   "metadata": {
    "application/vnd.databricks.v1+cell": {
     "cellMetadata": {},
     "inputWidgets": {},
     "nuid": "001302c2-c663-42e5-b042-1c2f86da6bce",
     "showTitle": false,
     "tableResultSettingsMap": {},
     "title": ""
    }
   },
   "outputs": [],
   "source": [
    "%sh unzip zip_path -d vol_path"
   ]
  },
  {
   "cell_type": "markdown",
   "metadata": {
    "application/vnd.databricks.v1+cell": {
     "cellMetadata": {},
     "inputWidgets": {},
     "nuid": "c04bdca1-58b2-4ffd-a000-e538f79cf4f5",
     "showTitle": false,
     "tableResultSettingsMap": {},
     "title": ""
    }
   },
   "source": [
    "## Building Your Knowledge Assistant Agent"
   ]
  },
  {
   "cell_type": "markdown",
   "metadata": {
    "application/vnd.databricks.v1+cell": {
     "cellMetadata": {},
     "inputWidgets": {},
     "nuid": "2e4ce718-f4e8-429a-b116-1ce4143f27a2",
     "showTitle": false,
     "tableResultSettingsMap": {},
     "title": ""
    }
   },
   "source": [
    "#### 1. Go to Agent Bricks:\n",
    "Go to **Agents** in the left navigation pane of your workspace and click **Build** under Knowledge Assistance tile.\n",
    "\n",
    "<img src=https://docs.databricks.com/aws/en/assets/images/bricks-knowledge-assistant-e4c25fd646fb406f811b2831e31e1d2e.png width=\"60%\">"
   ]
  },
  {
   "cell_type": "markdown",
   "metadata": {
    "application/vnd.databricks.v1+cell": {
     "cellMetadata": {},
     "inputWidgets": {},
     "nuid": "1ca69a08-9f99-485d-bd83-fb9821d19adf",
     "showTitle": false,
     "tableResultSettingsMap": {},
     "title": ""
    }
   },
   "source": [
    "#### 2. Configuring Your Tech Support Knowledge Assistant\n",
    "In this step, you'll configure your agent by providing its name and description, and you'll add two key knowledge sources.\n",
    "\n",
    "2.1. Name and Describe Your Agent\n",
    "- Agent Name: tech_support_knowledge_assistant\n",
    "- Agent Description: Tech support agent to handle technical support queries. It can answer questions about device problems, technical issues, and company policies.\n",
    "\n",
    "2.2. Add Knowledge Sources\n",
    "\n",
    "We will add two main knowledge sources. When adding each knowledge source, you must specify the path to the underlying files stored in your Unity Catalog volume.\n",
    "\n",
    "- knowledge Base: This contains support articles from our knowledge base. It has FAQs, debugging tips, and more. It also contains company policies around things like data overages and early termination fees.\n",
    "- Support Tickets: This contains support tickets from 2024 and 2025 and the resolution to issues. Use this to find error codes, how to fix technical issues\n",
    "\n",
    "TODO: Add the screenshots"
   ]
  },
  {
   "cell_type": "markdown",
   "metadata": {
    "application/vnd.databricks.v1+cell": {
     "cellMetadata": {},
     "inputWidgets": {},
     "nuid": "482f9ba2-f0aa-4bc6-b4de-2378222b0af2",
     "showTitle": false,
     "tableResultSettingsMap": {},
     "title": ""
    }
   },
   "source": [
    "Once you’ve finished configuring your agent and adding the knowledge sources, the creation process typically takes about 15 minutes. After your agent is ready, simply click on it to open and interact with it in the AI Playground. This lets you immediately begin asking questions and testing its capabilities based on your uploaded documentation and support tickets\n",
    "\n",
    "TODO: Add the screenshots\n",
    "\n",
    "\n",
    "Example Questions You Can Ask Your Agent\n",
    "- What information is needed to add a line to my account?\n",
    "- How long does it take to activate a new line?\n",
    "- How can I prevent incorrect roaming charges from happening again?"
   ]
  },
  {
   "cell_type": "markdown",
   "metadata": {
    "application/vnd.databricks.v1+cell": {
     "cellMetadata": {},
     "inputWidgets": {},
     "nuid": "bf317ffd-4054-4fcc-9d8f-c804c891c5f7",
     "showTitle": false,
     "tableResultSettingsMap": {},
     "title": ""
    }
   },
   "source": [
    "#### (Optional) 3. Improve Quality\n",
    "\n",
    "TODO: Add the screenshots and descriptions for the steps\n",
    "\n",
    "To ensure your Knowledge Assistant delivers accurate and relevant answers, you can continuously improve its performance by leveraging labeled data. With MLflow 3’s integrated labeling and feedback features (currently in Beta), you can submit questions to domain experts for review, creating a high-quality labeled dataset that guides further tuning and evaluation of your agent. By using expert-reviewed feedback, your assistant becomes more reliable, delivering better results for a wide range of customer inquiries."
   ]
  },
  {
   "cell_type": "markdown",
   "metadata": {
    "application/vnd.databricks.v1+cell": {
     "cellMetadata": {},
     "inputWidgets": {},
     "nuid": "42fbf914-82c1-424d-8051-83c23ffda7c8",
     "showTitle": false,
     "tableResultSettingsMap": {},
     "title": ""
    }
   },
   "source": [
    "#### (Optional) 4.Agent Deployment, Endpoints, and MLflow3 Integration \n",
    "\n",
    "When you create an agent with Agent Bricks, Databricks automatically provisions a REST endpoint for real-time queries and links the agent with a dedicated MLflow experiment. This allows for seamless tracking of all requests, generated responses, and system metrics associated with your agent deployment. Agent Bricks is tightly integrated with MLflow 3, which is specifically designed for generative AI workflows — enabling robust tracking, tracing, and evaluation of agent behavior across the entire lifecycle\n",
    "\n",
    "With this integration, every agent run, input, and output is logged as an MLflow experiment, and production trace data can be surfaced through the MLflow UI for monitoring and debugging. The platform supports:\n",
    "\n",
    "- Automatic experiment creation for every new agent.\n",
    "- Real-time observability via MLflow Tracing (inputs, outputs, trace metadata).\n",
    "- Centralized metric reporting and version tracking for deployed agents.\n",
    "- Unified evaluation, optimization, and comparison of agent quality using MLflow’s generative AI tools"
   ]
  },
  {
   "cell_type": "markdown",
   "metadata": {
    "application/vnd.databricks.v1+cell": {
     "cellMetadata": {},
     "inputWidgets": {},
     "nuid": "19e8da73-79a7-46fc-a162-0a67662c0985",
     "showTitle": false,
     "tableResultSettingsMap": {},
     "title": ""
    }
   },
   "source": []
  }
 ],
 "metadata": {
  "application/vnd.databricks.v1+notebook": {
   "computePreferences": null,
   "dashboards": [],
   "environmentMetadata": {
    "base_environment": "",
    "environment_version": "2"
   },
   "inputWidgetPreferences": null,
   "language": "python",
   "notebookMetadata": {
    "mostRecentlyExecutedCommandWithImplicitDF": {
     "commandId": 4539150290732882,
     "dataframes": [
      "_sqldf"
     ]
    },
    "pythonIndentUnit": 2
   },
   "notebookName": "03_Knowledge Assistant Agent Bricks",
   "widgets": {}
  },
  "language_info": {
   "name": "python"
  }
 },
 "nbformat": 4,
 "nbformat_minor": 0
}
