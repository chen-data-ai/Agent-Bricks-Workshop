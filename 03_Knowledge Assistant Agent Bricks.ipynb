{
 "cells": [
  {
   "cell_type": "markdown",
   "metadata": {
    "application/vnd.databricks.v1+cell": {
     "cellMetadata": {},
     "inputWidgets": {},
     "nuid": "849a5e91-cab7-47f8-b4a6-c3b4b3bdb1c2",
     "showTitle": false,
     "tableResultSettingsMap": {},
     "title": ""
    }
   },
   "source": [
    "# Introducing Agent Bricks: Knowledge Assistant\n",
    "\n",
    "The Knowledge Assistant in Agent Bricks is designed to provide easy access to unstructured data, enabling users to get answers directly from their documents, PowerPoints, and other file types. By using advanced retrieval-augmented generation (RAG), Knowledge Assistant transforms your documents into a high-quality, production-grade Q&A chatbot. This approach makes it ideal for scenarios where users need fast, accurate, and cited answers without manual data structuring.\n",
    "\n",
    "Key benefits include:\n",
    "- Easy access to unstructured data: Users can query a wide range of file types—including PDFs, Word files, and slides—to obtain the information they need.\n",
    "- Built-in metrics & evaluation: measure how well you're doing against real-life questions and see improvements\n",
    "- Production-grade scalability: Scale out to production use cases and focus your energy on what matters\n",
    "\n"
   ]
  },
  {
   "cell_type": "markdown",
   "metadata": {
    "application/vnd.databricks.v1+cell": {
     "cellMetadata": {},
     "inputWidgets": {},
     "nuid": "f9eef281-bd82-45ec-a552-bb1b3658981f",
     "showTitle": false,
     "tableResultSettingsMap": {},
     "title": ""
    }
   },
   "source": [
    "### Demo Overview\n",
    "For this demo, we’re using a telecom dataset comprising two main components: a knowledge base and a set of support tickets. The knowledge base includes FAQs, troubleshooting guides, and company policies addressing various topics. The support tickets cover cases from 2024 and 2025, each paired with its corresponding resolution. By utilizing this dataset, we aim to create a knowledge assistant designed to deliver accurate and insightful assistance across diverse customer inquiries and interactions."
   ]
  },
  {
   "cell_type": "markdown",
   "metadata": {
    "application/vnd.databricks.v1+cell": {
     "cellMetadata": {},
     "inputWidgets": {},
     "nuid": "c04bdca1-58b2-4ffd-a000-e538f79cf4f5",
     "showTitle": false,
     "tableResultSettingsMap": {},
     "title": ""
    }
   },
   "source": [
    "## Building Your Knowledge Assistant Agent"
   ]
  },
  {
   "cell_type": "markdown",
   "metadata": {
    "application/vnd.databricks.v1+cell": {
     "cellMetadata": {},
     "inputWidgets": {},
     "nuid": "2e4ce718-f4e8-429a-b116-1ce4143f27a2",
     "showTitle": false,
     "tableResultSettingsMap": {},
     "title": ""
    }
   },
   "source": [
    "#### 1. Go to Agent Bricks:\n",
    "Go to **Agents** in the left navigation pane of your workspace and click **Build** under Knowledge Assistance tile.\n",
    "\n",
    "<img src=https://docs.databricks.com/aws/en/assets/images/bricks-knowledge-assistant-e4c25fd646fb406f811b2831e31e1d2e.png width=\"60%\">"
   ]
  },
  {
   "cell_type": "markdown",
   "metadata": {
    "application/vnd.databricks.v1+cell": {
     "cellMetadata": {},
     "inputWidgets": {},
     "nuid": "1ca69a08-9f99-485d-bd83-fb9821d19adf",
     "showTitle": false,
     "tableResultSettingsMap": {},
     "title": ""
    }
   },
   "source": [
    "#### 2. Configuring Your Tech Support Knowledge Assistant\n",
    "In this step, you'll configure your agent by providing its name and description, and you'll add two key knowledge sources.\n",
    "\n",
    "2.1. Name and Describe Your Agent\n",
    "- Agent Name: **tech_support_knowledge_assistant**\n",
    "- Agent Description: Tech support agent to handle technical support queries. It can answer questions about device problems, technical issues, and company policies.\n",
    "\n",
    "<img src=https://raw.githubusercontent.com/chen-data-ai/Agent-Bricks-Workshop/1b6163bb59305a54fbaf945abb64131deee5af19/resources/screenshots/screenshot_knowledge_assistant_config_1.png width=\"60%\">\n",
    "\n",
    "2.2. Add Knowledge Sources\n",
    "We will add two main knowledge sources. When adding each knowledge source, you must specify the path to the underlying files stored in your Unity Catalog volume.\n",
    "\n",
    "- **knowledge Base:** This contains support articles from our knowledge base. It has FAQs, debugging tips, and more. It also contains company policies around things like data overages and early termination fees.\n",
    "- **Support Tickets:** This contains support tickets from 2024 and 2025 and the resolution to issues. Use this to find error codes, how to fix technical issues\n",
    "\n",
    "<img src=https://raw.githubusercontent.com/chen-data-ai/Agent-Bricks-Workshop/refs/heads/main/resources/screenshots/screenshot_knowledge_assistant_config_2.png width=\"60%\">"
   ]
  },
  {
   "cell_type": "markdown",
   "metadata": {
    "application/vnd.databricks.v1+cell": {
     "cellMetadata": {},
     "inputWidgets": {},
     "nuid": "482f9ba2-f0aa-4bc6-b4de-2378222b0af2",
     "showTitle": false,
     "tableResultSettingsMap": {},
     "title": ""
    }
   },
   "source": [
    "Once you’ve finished configuring your agent and adding the knowledge sources, the creation process typically takes about 15 minutes. After your agent is ready, you will see a chat interface on the right side, which you can use to start interacting with the agent. Alternatively, you can simply click on it to open and interact with it in the AI Playground. This allows you to immediately begin asking questions and testing the agent’s capabilities based on your uploaded documentation and support tickets.\n",
    "\n",
    "<img src=https://raw.githubusercontent.com/chen-data-ai/Agent-Bricks-Workshop/refs/heads/main/resources/screenshots/Screenshot_playground.png width=\"60%\">\n",
    "\n",
    "Example Questions You Can Ask Your Agent\n",
    "- What information is needed to add a line to my account?\n",
    "- How long does it take to activate a new line?\n",
    "- How can I prevent incorrect roaming charges from happening again?"
   ]
  },
  {
   "cell_type": "markdown",
   "metadata": {
    "application/vnd.databricks.v1+cell": {
     "cellMetadata": {},
     "inputWidgets": {},
     "nuid": "cc574176-afb7-40a9-bdb7-bd09ddd01e68",
     "showTitle": false,
     "tableResultSettingsMap": {},
     "title": ""
    }
   },
   "source": [
    "#### (Optional) 3. Improve Quality\n",
    "To ensure your Knowledge Assistant delivers accurate and relevant answers, you can continuously improve its performance by leveraging labeled data. With MLflow 3’s integrated labeling and feedback features (currently in Beta), you can submit questions to domain experts for review, creating a high-quality labeled dataset that guides further tuning and evaluation of your agent. By using expert-reviewed feedback, your assistant becomes more reliable, delivering better results for a wide range of customer inquiries.\n",
    "\n",
    "In your agent’s Bricks configuration screen, there is an “Improve Quality” button at the center of the top toolbar.\n",
    "\n",
    "<img src=https://raw.githubusercontent.com/chen-data-ai/Agent-Bricks-Workshop/refs/heads/main/resources/screenshots/Screenshot_improve_quality_0.png width=\"60%\">\n",
    "\n",
    "You will see the following interface:\n",
    "\n",
    "<img src=https://raw.githubusercontent.com/chen-data-ai/Agent-Bricks-Workshop/refs/heads/main/resources/screenshots/Screenshot_improve_quality_1.png width=\"60%\">\n",
    "\n",
    "Next, click the “Add” button to add a new question that you would like to label:\n",
    "\n",
    "<img src=https://raw.githubusercontent.com/chen-data-ai/Agent-Bricks-Workshop/refs/heads/main/resources/screenshots/Screenshot_improve_quality_2.png width=\"60%\">\n",
    "\n",
    "After adding the question, you can begin the labeling session, where you may define guidelines or expectations and provide feedback as needed:\n",
    "\n",
    "<img src=https://raw.githubusercontent.com/chen-data-ai/Agent-Bricks-Workshop/refs/heads/main/resources/screenshots/Screenshot_improve_quality_4.png width=\"60%\">"
   ]
  },
  {
   "cell_type": "markdown",
   "metadata": {
    "application/vnd.databricks.v1+cell": {
     "cellMetadata": {},
     "inputWidgets": {},
     "nuid": "42fbf914-82c1-424d-8051-83c23ffda7c8",
     "showTitle": false,
     "tableResultSettingsMap": {},
     "title": ""
    }
   },
   "source": [
    "#### 4.Agent Deployment, Endpoints, and MLflow3 Integration \n",
    "\n",
    "When you create an agent with Agent Bricks, Databricks automatically provisions a REST endpoint for real-time queries and links the agent with a dedicated MLflow experiment. This allows for seamless tracking of all requests, generated responses, and system metrics associated with your agent deployment. Agent Bricks is tightly integrated with MLflow 3, which is specifically designed for generative AI workflows — enabling robust tracking, tracing, and evaluation of agent behavior across the entire lifecycle\n",
    "\n",
    "With this integration, every agent run, input, and output is logged as an MLflow experiment, and production trace data can be surfaced through the MLflow UI for monitoring and debugging. The platform supports:\n",
    "\n",
    "- Automatic experiment creation for every new agent.\n",
    "- Real-time observability via MLflow Tracing (inputs, outputs, trace metadata).\n",
    "- Centralized metric reporting and version tracking for deployed agents.\n",
    "- Unified evaluation, optimization, and comparison of agent quality using MLflow’s generative AI tools"
   ]
  }
 ],
 "metadata": {
  "application/vnd.databricks.v1+notebook": {
   "computePreferences": null,
   "dashboards": [],
   "environmentMetadata": {
    "base_environment": "",
    "environment_version": "2"
   },
   "inputWidgetPreferences": null,
   "language": "python",
   "notebookMetadata": {
    "mostRecentlyExecutedCommandWithImplicitDF": {
     "commandId": 4539150290732882,
     "dataframes": [
      "_sqldf"
     ]
    },
    "pythonIndentUnit": 2
   },
   "notebookName": "03_Knowledge Assistant Agent Bricks",
   "widgets": {}
  },
  "language_info": {
   "name": "python"
  }
 },
 "nbformat": 4,
 "nbformat_minor": 0
}
