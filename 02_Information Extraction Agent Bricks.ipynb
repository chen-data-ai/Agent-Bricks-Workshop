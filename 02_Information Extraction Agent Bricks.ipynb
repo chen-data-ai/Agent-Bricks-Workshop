{
 "cells": [
  {
   "cell_type": "markdown",
   "metadata": {
    "application/vnd.databricks.v1+cell": {
     "cellMetadata": {},
     "inputWidgets": {},
     "nuid": "9c2ec647-ec1a-483d-93f7-454352760de5",
     "showTitle": false,
     "tableResultSettingsMap": {},
     "title": ""
    }
   },
   "source": [
    "# Introducing Agent Bricks: \n",
    "# Auto-Optimized Agents Using Your Data"
   ]
  },
  {
   "cell_type": "markdown",
   "metadata": {
    "application/vnd.databricks.v1+cell": {
     "cellMetadata": {},
     "inputWidgets": {},
     "nuid": "69d61940-18f8-4f97-8aae-38072adb9364",
     "showTitle": false,
     "tableResultSettingsMap": {},
     "title": ""
    }
   },
   "source": [
    "Agent Bricks provides a simple, no-code approach to build and optimize domain-specific, high-quality AI agent systems for common AI use cases. Agent Bricks streamlines the implementation of AI agent systems so that users can focus on the problem, data, and metrics instead."
   ]
  },
  {
   "cell_type": "markdown",
   "metadata": {
    "application/vnd.databricks.v1+cell": {
     "cellMetadata": {},
     "inputWidgets": {},
     "nuid": "b18be7e0-c155-4181-9791-0d2a6cf9d3fc",
     "showTitle": false,
     "tableResultSettingsMap": {},
     "title": ""
    }
   },
   "source": [
    "## How does Agent Bricks work?\n",
    "Agent Bricks is powered by Databricks Mosaic AI to allow users to deploy comprehensive AI agent systems customized with their unique data quickly and easily.\n",
    "\n",
    "1. Specify your problem.\n",
    "\n",
    "    Specify your use case and point to your data.\n",
    "\n",
    "2. Agent Bricks automatically builds out the entire AI agent system for you.\n",
    "\n",
    "    Agent Bricks will automatically try various AI models, fine-tune them using your data, optimize the systems using innovative AI techniques, and evaluate them to offer you the best built-out systems.\n",
    "\n",
    "3. Further refine the system for continuous improvement.\n",
    "\n",
    "    When you use Agent Bricks, Databricks will run additional methods and hyperparameter sweeps in the background to continually optimize your model result. If our evaluations indicate a different model would achieve better results, Databricks will notify you without additional charge."
   ]
  },
  {
   "cell_type": "markdown",
   "metadata": {
    "application/vnd.databricks.v1+cell": {
     "cellMetadata": {},
     "inputWidgets": {},
     "nuid": "7c6ad3aa-1746-40d0-936a-b6c8b425e871",
     "showTitle": false,
     "tableResultSettingsMap": {},
     "title": ""
    }
   },
   "source": [
    "## Supported use cases\n",
    "1. **Information Extraction:** \n",
    "  Transform large volumes of unlabeled text documents into structured tables with extracted information\n",
    "2. **Model Specialization:** \n",
    "  Custom text generation tasks, such as summarization, classification, and text transformation.\n",
    "3. **Knowledge Assistant:**\n",
    "  Turn your documents into a high-quality chatbot that can answer questions and cite its sources.\n",
    "\n",
    "Let us take a look at Information Extraction in detail. "
   ]
  },
  {
   "cell_type": "code",
   "execution_count": 0,
   "metadata": {
    "application/vnd.databricks.v1+cell": {
     "cellMetadata": {
      "byteLimit": 2048000,
      "rowLimit": 10000
     },
     "inputWidgets": {},
     "nuid": "eb8f82bc-33b9-4067-a6d0-a1ac64b2fcf5",
     "showTitle": false,
     "tableResultSettingsMap": {},
     "title": ""
    }
   },
   "outputs": [],
   "source": [
    "%run ./config"
   ]
  },
  {
   "cell_type": "markdown",
   "metadata": {
    "application/vnd.databricks.v1+cell": {
     "cellMetadata": {},
     "inputWidgets": {},
     "nuid": "782a8d01-0e01-4df7-bb06-588c8f684d4d",
     "showTitle": false,
     "tableResultSettingsMap": {},
     "title": ""
    }
   },
   "source": [
    "## Demo Overview\n",
    "For this demo, we’re using a telecom support tickets dataset. The support tickets cover cases from 2024 and 2025, each paired with its corresponding resolution. By utilizing this dataset, we aim to create an information extraction agent designed to extract specific fields to effectively convert them into structured data."
   ]
  },
  {
   "cell_type": "markdown",
   "metadata": {
    "application/vnd.databricks.v1+cell": {
     "cellMetadata": {},
     "inputWidgets": {},
     "nuid": "0d705b7e-7796-45f5-8892-f824f3f4c010",
     "showTitle": false,
     "tableResultSettingsMap": {},
     "title": ""
    }
   },
   "source": [
    "### Information Extraction agent\n",
    "Go to **Agents** in the left navigation pane of your workspace and click **Build** under Information Extraction tile.\n",
    "\n",
    "<img src=https://docs.databricks.com/aws/en/assets/images/bricks-info-extraction-c385d93a8907fd789fd56c34c3031e30.png width=\"60%\">"
   ]
  },
  {
   "cell_type": "markdown",
   "metadata": {
    "application/vnd.databricks.v1+cell": {
     "cellMetadata": {},
     "inputWidgets": {},
     "nuid": "baeb833a-a56f-4cda-abb9-d802b4c8bbc2",
     "showTitle": false,
     "tableResultSettingsMap": {},
     "title": ""
    }
   },
   "source": [
    "**Step 1: Add input data and output example**\n",
    "\n",
    "1. In the Source documents field, select the folder or table you want to use from your Unity Catalog volume. \n",
    "\n",
    "    Run the following cell to see where your volume is located.\n",
    "\n"
   ]
  },
  {
   "cell_type": "code",
   "execution_count": 0,
   "metadata": {
    "application/vnd.databricks.v1+cell": {
     "cellMetadata": {
      "byteLimit": 2048000,
      "rowLimit": 10000
     },
     "inputWidgets": {},
     "nuid": "15464717-9678-4700-93ec-5d783ee9682a",
     "showTitle": false,
     "tableResultSettingsMap": {},
     "title": ""
    }
   },
   "outputs": [],
   "source": [
    "display(f\"/Volumes/{catalog_name}/{schema_name}/tech_support/support_tickets\")"
   ]
  },
  {
   "cell_type": "markdown",
   "metadata": {
    "application/vnd.databricks.v1+cell": {
     "cellMetadata": {},
     "inputWidgets": {},
     "nuid": "280cd869-9d85-4f5f-86d7-7145859dae1b",
     "showTitle": false,
     "tableResultSettingsMap": {},
     "title": ""
    }
   },
   "source": [
    "2. In the **Sample output** field, provide an example response:\n",
    "\n",
    "    { <br />\n",
    "    \"Subscription ID\": \"SUB-10000124\", <br />\n",
    "    \"Time to resolution\": \"1 day\", <br />\n",
    "    \"Ticket summary\": \"The customer's iPhone 15 Pro was incorrectly reported as lost/stolen and subsequently blacklisted. The issue was resolved by verifying the customer's account ownership, removing the IMEI from the national blacklist database, and performing a manual override in the internal system.\", <br />\n",
    "    \"Product tag\": \"mobile\", <br />\n",
    "    \"Ticket ID\": \"TICK-8006\" <br />\n",
    "    }\n",
    "\n",
    "3. Provide a name for your agent. You can leave the default name if you don't want to change it.\n",
    "\n",
    "4. Select **Create agent**.\n"
   ]
  },
  {
   "cell_type": "markdown",
   "metadata": {
    "application/vnd.databricks.v1+cell": {
     "cellMetadata": {},
     "inputWidgets": {},
     "nuid": "eabeaafc-c4a2-47d4-9b55-e2de33ae8fb6",
     "showTitle": false,
     "tableResultSettingsMap": {},
     "title": ""
    }
   },
   "source": [
    "**Step 2: Build and improve your agent**\n",
    "\n",
    "On the **Build** tab, in the **Agent configuration** pane, refine your schema definition for better results.\n",
    "\n",
    "1. (Optional) Add global instructions for your agent, such as a prompt that can apply to all fields.\n",
    "\n",
    "2. Adjust the descriptions of the schema fields that you want your agent to use for output responses. These descriptions are what the agent relies on to understand what you want to extract.\n",
    "\n",
    "    <img src=https://raw.githubusercontent.com/chen-data-ai/Agent-Bricks-Workshop/1b6163bb59305a54fbaf945abb64131deee5af19/resources/screenshots/screenshot_ie_agent_schema_update.png width=\"60%\">\n",
    "\n",
    "3. You can use AI-generated recommendations on the left side of the tab to update sceham descriptions.\n",
    "\n",
    "    <img src=https://raw.githubusercontent.com/chen-data-ai/Agent-Bricks-Workshop/refs/heads/main/resources/screenshots/screenshot_ie_agent_build_recommendation.png>\n",
    "\n",
    "    For e.g., update **Time to resolution** field with specific timestamp: <br />\n",
    "    _The duration it takes to resolve a ticket, from time of creation to time of resolution. Specify output in the format \"X.x days\"._\n",
    "\n",
    "    Apply recommendations and adjust your descriptions and instructions on the **Agent configuration** pane as needed.\n",
    "\n",
    "4. After you apply changes and recommendations, select **Update agent** to save those changes to your agent. \n",
    "\n",
    "    Now you have an agent for information extraction."
   ]
  },
  {
   "cell_type": "markdown",
   "metadata": {
    "application/vnd.databricks.v1+cell": {
     "cellMetadata": {},
     "inputWidgets": {},
     "nuid": "5b9489cd-d4e8-4f48-9af1-550f5301a0ff",
     "showTitle": false,
     "tableResultSettingsMap": {},
     "title": ""
    }
   },
   "source": [
    "**(Optional) Step 3: Review and deploy an optimized agent**\n",
    "\n",
    "On the Review tab,\n",
    "\n",
    "1. You can **optimize** your agent where Databricks compares multiple different optimization strategies to build and recommend an optimized agent.\n",
    "\n",
    "2. You can also **evaluate your agent** where databricks generates an evaluation dataset and chooses a metric based on each field's data type. \n",
    "\n"
   ]
  },
  {
   "cell_type": "markdown",
   "metadata": {
    "application/vnd.databricks.v1+cell": {
     "cellMetadata": {},
     "inputWidgets": {},
     "nuid": "a6ba4cf5-3ebe-4dce-b9a1-ef9f2a044f66",
     "showTitle": false,
     "tableResultSettingsMap": {},
     "title": ""
    }
   },
   "source": [
    "**Step 4: Use your agent**\n",
    "\n",
    "You can use your agent in workflows across Databricks.\n",
    "\n",
    "<img src=\"https://docs.databricks.com/aws/en/assets/images/abie-use-agent-ef95f52ac2249b4eea5dba907ee605df.png\" width=\"60%\">\n",
    "\n",
    "On the **Use** tab,\n",
    "\n",
    "1. Select **Start extraction** to open the SQL editor and use ai_query to send requests to your new information extraction agent. \n",
    "\n",
    "    You can use the same path you used in Step 1 and run the query to see results for across your dataset. \n",
    "\n",
    "    <img src=https://raw.githubusercontent.com/chen-data-ai/Agent-Bricks-Workshop/refs/heads/main/resources/screenshots/screenshot_ie_ai_query_Results.png width=\"60%\">\n",
    "\n",
    "2. You can also create a DLT pipeline that allows you to run the agent on new data at scheduled intervals."
   ]
  },
  {
   "cell_type": "code",
   "execution_count": 0,
   "metadata": {
    "application/vnd.databricks.v1+cell": {
     "cellMetadata": {},
     "inputWidgets": {},
     "nuid": "c093dd36-7b41-40d8-a02d-9ca91808a6ea",
     "showTitle": false,
     "tableResultSettingsMap": {},
     "title": ""
    }
   },
   "outputs": [],
   "source": [
    "# Example SQL code\n",
    "WITH query_results AS (\n",
    "  SELECT\n",
    "    value AS input,\n",
    "    ai_query(\n",
    "      'kie-0f6da6b0-endpoint',\n",
    "      input,\n",
    "      failOnError => false\n",
    "    ) AS response\n",
    "  FROM (\n",
    "    SELECT value \n",
    "    FROM read_files('/Volumes/users/karthiga_mahali/tech_support/support_tickets/', wholeText => true, format => 'text')\n",
    "    LIMIT 20\n",
    "  )\n",
    ")\n",
    "SELECT\n",
    "  input,\n",
    "  response.result AS response,\n",
    "  response.errorMessage AS error\n",
    "FROM query_results"
   ]
  }
 ],
 "metadata": {
  "application/vnd.databricks.v1+notebook": {
   "computePreferences": {
    "hardware": {
     "accelerator": null,
     "gpuPoolId": null,
     "memory": null
    }
   },
   "dashboards": [],
   "environmentMetadata": {
    "base_environment": "",
    "environment_version": "2"
   },
   "inputWidgetPreferences": null,
   "language": "python",
   "notebookMetadata": {
    "pythonIndentUnit": 2
   },
   "notebookName": "02_Information Extraction Agent Bricks",
   "widgets": {}
  },
  "language_info": {
   "name": "python"
  }
 },
 "nbformat": 4,
 "nbformat_minor": 0
}
