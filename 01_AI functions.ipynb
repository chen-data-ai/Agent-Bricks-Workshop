{
 "cells": [
  {
   "cell_type": "markdown",
   "metadata": {
    "application/vnd.databricks.v1+cell": {
     "cellMetadata": {},
     "inputWidgets": {},
     "nuid": "93af884f-b5d9-49a8-a735-12db2c1610d8",
     "showTitle": false,
     "tableResultSettingsMap": {},
     "title": ""
    }
   },
   "source": [
    "#Get started immediately with your Data with AI Functions\n",
    "\n",
    "We have a number of AI Functions designed as SQL functions that you can use in a SQL cell or SQL editor and use LLMs directly on your data immediately\n",
    "\n",
    "1. ai_analyze_sentiment\n",
    "2. ai_classify\n",
    "3. ai_extract\n",
    "4. ai_fix_grammar\n",
    "5. ai_gen\n",
    "6. ai_mask\n",
    "7. ai_similarity\n",
    "8. ai_summarize\n",
    "9. ai_translate\n",
    "10. ai_query\n",
    "\n",
    "We will run a demo of a few of these functions below. \n",
    "\n",
    "\n"
   ]
  },
  {
   "cell_type": "code",
   "execution_count": 0,
   "metadata": {
    "application/vnd.databricks.v1+cell": {
     "cellMetadata": {
      "byteLimit": 2048000,
      "rowLimit": 10000
     },
     "inputWidgets": {},
     "nuid": "efe2fe72-432e-4462-ba55-aae650769735",
     "showTitle": false,
     "tableResultSettingsMap": {},
     "title": ""
    }
   },
   "outputs": [],
   "source": [
    "%run ./config"
   ]
  },
  {
   "cell_type": "code",
   "execution_count": 0,
   "metadata": {
    "application/vnd.databricks.v1+cell": {
     "cellMetadata": {
      "byteLimit": 2048000,
      "rowLimit": 10000
     },
     "inputWidgets": {},
     "nuid": "ca6fbd1a-c587-465d-9fbc-451610be4dfc",
     "showTitle": false,
     "tableResultSettingsMap": {},
     "title": ""
    }
   },
   "outputs": [],
   "source": [
    "dbutils.widgets.text(\"catalog_name\", catalog_name)\n",
    "dbutils.widgets.text(\"schema_name\", schema_name)"
   ]
  },
  {
   "cell_type": "markdown",
   "metadata": {
    "application/vnd.databricks.v1+cell": {
     "cellMetadata": {},
     "inputWidgets": {},
     "nuid": "8a7f2192-7da0-4281-a98b-106c5ff7c8ef",
     "showTitle": false,
     "tableResultSettingsMap": {},
     "title": ""
    }
   },
   "source": [
    "### ai_fix_grammar\n",
    "The ai_fix_grammar() function allows you to invoke a state-of-the-art generative AI model to correct grammatical errors in a given text using SQL. This function uses a chat model serving endpoint made available by Databricks Foundation Model APIs.\n",
    "\n",
    "Documentation: https://docs.databricks.com/en/sql/language-manual/functions/ai_fix_grammar.html"
   ]
  },
  {
   "cell_type": "code",
   "execution_count": 0,
   "metadata": {
    "application/vnd.databricks.v1+cell": {
     "cellMetadata": {
      "byteLimit": 2048000,
      "implicitDf": true,
      "rowLimit": 10000
     },
     "inputWidgets": {},
     "nuid": "00f457b1-100e-4f51-a370-369706d0cd24",
     "showTitle": false,
     "tableResultSettingsMap": {},
     "title": ""
    }
   },
   "outputs": [],
   "source": [
    "%sql\n",
    "SELECT ai_fix_grammar('This sentence have some mistake') as fixed_sentence;"
   ]
  },
  {
   "cell_type": "markdown",
   "metadata": {
    "application/vnd.databricks.v1+cell": {
     "cellMetadata": {},
     "inputWidgets": {},
     "nuid": "3add0caf-3df9-4feb-83f5-e3b8cc06a7cb",
     "showTitle": false,
     "tableResultSettingsMap": {},
     "title": ""
    }
   },
   "source": [
    "### ai_query\n",
    "The ai_query() function allows you to query machine learning models and large language models served using Mosaic AI Model Serving. To do so, this function invokes an existing Mosaic AI Model Serving endpoint and parses and returns its response. Databricks recommends using ai_query with Model Serving for batch inference\n",
    "\n",
    "Documentation: https://docs.databricks.com/en/large-language-models/ai-functions.html#ai_query\n",
    "\n",
    "We can switch models depending on what we are trying to do. See how the performance varies between the 70B model and 8B model below. Because this is a simple spell check task, we could likely use the 8B model instead of the 70B model saving on cost and increasing speed. "
   ]
  },
  {
   "cell_type": "code",
   "execution_count": 0,
   "metadata": {
    "application/vnd.databricks.v1+cell": {
     "cellMetadata": {
      "byteLimit": 2048000,
      "implicitDf": true,
      "rowLimit": 10000
     },
     "inputWidgets": {},
     "nuid": "bc9b0e88-6746-4e8f-9a41-d7a731e26de7",
     "showTitle": false,
     "tableResultSettingsMap": {},
     "title": ""
    }
   },
   "outputs": [],
   "source": [
    "%sql \n",
    "SELECT\n",
    "  `Misspelled_Make`,   -- Placeholder for the input column\n",
    "  ai_query(\n",
    "    'databricks-meta-llama-3-1-8b-instruct',\n",
    "    CONCAT(format_string('You will always receive a make of a car. Check to see if it is misspelled and a real car. Correct the mistake. Only provide the corrected make. Never add additional details'), `Misspelled_Make`)    -- Placeholder for the prompt and input\n",
    "  ) AS ai_guess  -- Placeholder for the output column\n",
    "FROM identifier(:catalog_name||'.'||:schema_name||'.'||'synthetic_car_data')\n",
    "-- limit 3;\n"
   ]
  },
  {
   "cell_type": "markdown",
   "metadata": {
    "application/vnd.databricks.v1+cell": {
     "cellMetadata": {},
     "inputWidgets": {},
     "nuid": "7e6f3373-6291-4d1d-a19b-e4acfa7edafc",
     "showTitle": false,
     "tableResultSettingsMap": {},
     "title": ""
    }
   },
   "source": [
    "## ai_parse_document\n",
    "\n",
    "The ai_parse_document() function invokes a state-of-the-art generative AI model from Databricks Foundation Model APIs to extract structured content from unstructured documents. The following file formats are supported:\n",
    "\n",
    "- PDF\n",
    "- JPG / JPEG\n",
    "- PNG\n",
    "\n",
    "Documentation: https://docs.databricks.com/aws/en/sql/language-manual/functions/ai_parse_document \n",
    "\n",
    "Let's see an example using the image below:\n",
    "\n",
    "<img src=\"https://www.databricks.com/sites/default/files/inline-images/blog-marketecture-1.png?v=1700106342\" width=\"50%\">"
   ]
  },
  {
   "cell_type": "code",
   "execution_count": 0,
   "metadata": {
    "application/vnd.databricks.v1+cell": {
     "cellMetadata": {
      "byteLimit": 2048000,
      "implicitDf": true,
      "rowLimit": 10000
     },
     "inputWidgets": {},
     "nuid": "ec781fd1-b05b-4f38-9bcd-bde38920eb24",
     "showTitle": false,
     "tableResultSettingsMap": {
      "0": {
       "dataGridStateBlob": "{\"version\":1,\"tableState\":{\"columnPinning\":{\"left\":[\"#row_number#\"],\"right\":[]},\"columnSizing\":{},\"columnVisibility\":{}},\"settings\":{\"columns\":{}},\"syncTimestamp\":1752858721527}",
       "filterBlob": null,
       "queryPlanFiltersBlob": null,
       "tableResultIndex": 0
      }
     },
     "title": ""
    }
   },
   "outputs": [],
   "source": [
    "%sql\n",
    "\n",
    "-- Use the variables in the SQL query\n",
    "WITH raw_data AS (\n",
    "  SELECT\n",
    "    path,\n",
    "    content\n",
    "  FROM\n",
    "    READ_FILES('/Volumes/'||:catalog_name||'/'||:schema_name||'/dip', format => 'binaryFile')\n",
    ")\n",
    "SELECT\n",
    "  path,\n",
    "  ai_parse_document(content) AS parsed\n",
    "FROM\n",
    "  raw_data;"
   ]
  },
  {
   "cell_type": "markdown",
   "metadata": {
    "application/vnd.databricks.v1+cell": {
     "cellMetadata": {},
     "inputWidgets": {},
     "nuid": "e97e0e33-9204-4c32-9e59-a1dae2797692",
     "showTitle": false,
     "tableResultSettingsMap": {},
     "title": ""
    }
   },
   "source": [
    "Alternatively, you can also parse your unstructured documents through the UI from the Agents tab. For detailed steps, click [here](https://docs.databricks.com/aws/en/generative-ai/agent-bricks/key-info-extraction#use-pdfs-in-agent-bricks).\n",
    "\n",
    "<img src=\"https://docs.databricks.com/aws/en/assets/images/pdfs-config-148671081ce79e3bf4eafc7132237a48.png\" width=\"70%\">"
   ]
  },
  {
   "cell_type": "markdown",
   "metadata": {
    "application/vnd.databricks.v1+cell": {
     "cellMetadata": {},
     "inputWidgets": {},
     "nuid": "454c43fb-f85e-4314-9108-e275f28137e6",
     "showTitle": false,
     "tableResultSettingsMap": {},
     "title": ""
    }
   },
   "source": [
    "### Takeaway\n",
    "Many of our use cases simply need a reliable, out of the box solution to use AI. AI functions enable this for our customers and AI query helps scale workloads to easily apply AI "
   ]
  }
 ],
 "metadata": {
  "application/vnd.databricks.v1+notebook": {
   "computePreferences": null,
   "dashboards": [],
   "environmentMetadata": {
    "base_environment": "",
    "environment_version": "2"
   },
   "inputWidgetPreferences": null,
   "language": "python",
   "notebookMetadata": {
    "mostRecentlyExecutedCommandWithImplicitDF": {
     "commandId": 7358320039448686,
     "dataframes": [
      "_sqldf"
     ]
    },
    "pythonIndentUnit": 2,
    "widgetLayout": []
   },
   "notebookName": "01_AI functions",
   "widgets": {
    "catalog_name": {
     "currentValue": "users",
     "nuid": "0b594648-7582-4d0b-a2d4-d7109b6cb9d1",
     "typedWidgetInfo": {
      "autoCreated": false,
      "defaultValue": "users",
      "label": null,
      "name": "catalog_name",
      "options": {
       "widgetDisplayType": "Text",
       "validationRegex": null
      },
      "parameterDataType": "String"
     },
     "widgetInfo": {
      "widgetType": "text",
      "defaultValue": "users",
      "label": null,
      "name": "catalog_name",
      "options": {
       "widgetType": "text",
       "autoCreated": false,
       "validationRegex": null
      }
     }
    },
    "schema_name": {
     "currentValue": "karthiga_mahali",
     "nuid": "6940b593-3117-4328-9650-040c2b4a05cf",
     "typedWidgetInfo": {
      "autoCreated": false,
      "defaultValue": "karthiga_mahali",
      "label": null,
      "name": "schema_name",
      "options": {
       "widgetDisplayType": "Text",
       "validationRegex": null
      },
      "parameterDataType": "String"
     },
     "widgetInfo": {
      "widgetType": "text",
      "defaultValue": "karthiga_mahali",
      "label": null,
      "name": "schema_name",
      "options": {
       "widgetType": "text",
       "autoCreated": false,
       "validationRegex": null
      }
     }
    }
   }
  },
  "language_info": {
   "name": "python"
  }
 },
 "nbformat": 4,
 "nbformat_minor": 0
}
